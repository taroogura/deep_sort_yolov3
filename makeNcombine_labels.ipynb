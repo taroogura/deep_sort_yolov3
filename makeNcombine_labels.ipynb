{
 "cells": [
  {
   "cell_type": "markdown",
   "metadata": {},
   "source": [
    "# ラベリング済みディレクトリからラベル情報を抽出して画像情報に貼り付け"
   ]
  },
  {
   "cell_type": "code",
   "execution_count": 71,
   "metadata": {},
   "outputs": [],
   "source": [
    "import pandas as pd\n",
    "from glob import glob \n",
    "import os\n",
    "import subprocess\n",
    "from shutil import copyfile\n",
    "import json\n"
   ]
  },
  {
   "cell_type": "markdown",
   "metadata": {},
   "source": [
    "## ラベリング済みディレクトリからラベル情報CSVを生成\n"
   ]
  },
  {
   "cell_type": "code",
   "execution_count": null,
   "metadata": {},
   "outputs": [],
   "source": [
    "\n",
    "def make_perlabel_df(label_dir):\n",
    "    label = os.path.basename(label_dir)\n",
    "\n",
    "    track_ids = glob(os.path.join(label_dir, \"*\"))\n",
    "    # track_ids = [x[0] for x in os.walk(label_dir)]\n",
    "    per_label_df = pd.DataFrame({\"track_id\": list (map(lambda x: os.path.basename(x), track_ids))})\n",
    "    per_label_df[\"label\"] = label\n",
    "\n",
    "    return per_label_df\n",
    "\n"
   ]
  },
  {
   "cell_type": "code",
   "execution_count": 34,
   "metadata": {},
   "outputs": [],
   "source": [
    "def make_label_csv(base_label_dir, csv_path):\n",
    "    label_dirs = glob(os.path.join(base_label_dir, \"*\"))\n",
    "    label_df = pd.DataFrame()\n",
    "    for label_dir in label_dirs:\n",
    "        print(\"label: \", os.path.basename(label_dir))\n",
    "        perlabel_df = make_perlabel_df(label_dir)\n",
    "        label_df = label_df.append(perlabel_df)\n",
    "    label_df.to_csv(csv_path)\n"
   ]
  },
  {
   "cell_type": "markdown",
   "metadata": {},
   "source": [
    "## 抽出画像情報CSVとラベル情報CSVを合成"
   ]
  },
  {
   "cell_type": "code",
   "execution_count": 95,
   "metadata": {},
   "outputs": [],
   "source": [
    "def combine_label_df(csv_path, label_df):\n",
    "    info_df = pd.read_csv(csv_path)\n",
    "    info_df[\"label\"] = \"unknown\"\n",
    "    labelled = False\n",
    "    for key, track_df in info_df.groupby([\"track_id\"]):\n",
    "        label = label_df[label_df[\"track_id\"] == key].label\n",
    "        print(label.values)\n",
    "        if(len(label.values) > 0):\n",
    "            labelled = True\n",
    "            info_df.loc[info_df[\"track_id\"]==key,[\"label\"]] = label.values[0]\n",
    "\n",
    "    if(labelled):\n",
    "        info_df.to_csv(csv_path+\"_labelled.csv\")\n",
    "            \n",
    "#     return info_df\n",
    "#     label_df.to_csv(csv_path)\n"
   ]
  },
  {
   "cell_type": "code",
   "execution_count": 96,
   "metadata": {},
   "outputs": [],
   "source": [
    "def combine_infoNlabel(base_info_dir, label_path):\n",
    "    info_csvs = glob(os.path.join(base_info_dir, \"*mkv.csv\"))\n",
    "    label_df = pd.read_csv(label_path)\n",
    "    for info_csv in info_csvs:\n",
    "        print(info_csv)\n",
    "        combine_label_df(info_csv, label_df)\n",
    "\n",
    "            \n",
    "#     return base_df\n",
    "#     label_df.to_csv(csv_path)\n"
   ]
  },
  {
   "cell_type": "markdown",
   "metadata": {},
   "source": [
    "## ラベル合成後CSVから画像を抽出\n"
   ]
  },
  {
   "cell_type": "code",
   "execution_count": 108,
   "metadata": {},
   "outputs": [],
   "source": [
    "def select_images_percsv(info_csv_path, base_image_dir, base_output_image_dir, conditions_dict):\n",
    "    subprocess.call([\"mkdir\", \"-p\", base_output_image_dir]);\n",
    "    df = pd.read_csv(info_csv_path)\n",
    "    \n",
    "    # 本当はquery時にやりたかったけど\n",
    "    for cond_name, cond_dict in conditions_dict[\"condition\"].items():\n",
    "        for logic, value in cond_dict.items():\n",
    "            if logic == \"max\":\n",
    "                df = df[df[cond_name] <= value]\n",
    "            elif logic == \"min\":\n",
    "                df = df[df[cond_name] >= value]\n",
    "            elif logic == \"equal\":\n",
    "                df = df[df[cond_name] == value]\n",
    "        \n",
    "    for key, track_df in df.groupby([\"label\"]):\n",
    "        print(\"key:\", key)\n",
    "        print(\"len(track_df.values):\", len(track_df.values))\n",
    "        if key == \"unknown\":\n",
    "            continue\n",
    "        if(len(track_df.values) > 0):\n",
    "            input_dir = os.path.join(base_image_dir, key)\n",
    "            output_dir = os.path.join(base_output_image_dir, key)\n",
    "            subprocess.call([\"mkdir\", \"-p\", output_dir]);\n",
    "\n",
    "            for index, row in track_df.iterrows():\n",
    "                track_id = row[\"track_id\"]\n",
    "                raw_image_filename = row[\"image_filename\"]\n",
    "                new_image_filename = \"{}_{}\".format(key ,raw_image_filename)\n",
    "                src = os.path.join(input_dir, track_id, raw_image_filename)\n",
    "                dst = os.path.join(output_dir, new_image_filename)\n",
    "                copyfile(src, dst)\n",
    "\n",
    "            \n",
    "#     return base_df\n",
    "#     label_df.to_csv(csv_path)\n",
    "\n"
   ]
  },
  {
   "cell_type": "code",
   "execution_count": 109,
   "metadata": {},
   "outputs": [],
   "source": [
    "def select_images(base_infocsv_dir, base_image_dir, base_output_image_dir, conditions_json_path):\n",
    "    subprocess.call([\"mkdir\", \"-p\", base_output_image_dir]);\n",
    "    f = open(conditions_json_path)\n",
    "    conditions_dict = json.load(f)\n",
    "    f.close()\n",
    "    info_csvs = glob(os.path.join(base_infocsv_dir, \"*labelled.csv\"))\n",
    "    for info_csv in info_csvs:\n",
    "        print(info_csv)\n",
    "        select_images_percsv(info_csv, base_image_dir, base_output_image_dir, conditions_dict)\n",
    "\n",
    "            \n",
    "#     return base_df\n",
    "#     label_df.to_csv(csv_path)\n",
    "\n"
   ]
  },
  {
   "cell_type": "code",
   "execution_count": 112,
   "metadata": {},
   "outputs": [],
   "source": [
    "base_infocsv_dir = 'video'\n",
    "base_image_dir = 'images/liquid_employees/'\n",
    "base_output_image_dir = 'images/select_test'\n",
    "conditions_json_path = 'image_condition.json'"
   ]
  },
  {
   "cell_type": "code",
   "execution_count": 114,
   "metadata": {},
   "outputs": [
    {
     "name": "stdout",
     "output_type": "stream",
     "text": [
      "video/66-20190720201028.mkv.csv_labelled.csv\n",
      "key: ogura\n",
      "len(track_df.values): 6\n",
      "key: ohiwa\n",
      "len(track_df.values): 23\n",
      "key: ohsu\n",
      "len(track_df.values): 53\n",
      "video/000-2019081412221.mkv.csv_labelled.csv\n",
      "key: keita\n",
      "len(track_df.values): 76\n",
      "key: ohiwa\n",
      "len(track_df.values): 60\n",
      "key: teppei\n",
      "len(track_df.values): 20\n",
      "key: umeki\n",
      "len(track_df.values): 17\n",
      "key: unknown\n",
      "len(track_df.values): 31\n"
     ]
    }
   ],
   "source": [
    "select_images(base_infocsv_dir, base_image_dir, base_output_image_dir, conditions_json_path)"
   ]
  },
  {
   "cell_type": "code",
   "execution_count": 58,
   "metadata": {},
   "outputs": [],
   "source": [
    "base_label_dir = \"images/liquid_employees/\"\n",
    "label_path = 'test_label2.csv'\n",
    "base_csv_path = 'video/000-2019081412221.mkv.csv'"
   ]
  },
  {
   "cell_type": "code",
   "execution_count": 59,
   "metadata": {},
   "outputs": [
    {
     "name": "stdout",
     "output_type": "stream",
     "text": [
      "label:  keita\n",
      "label:  teppei\n",
      "label:  ogura\n",
      "label:  ohsu\n",
      "label:  ohiwa\n",
      "label:  umeki\n"
     ]
    }
   ],
   "source": [
    "make_label_csv(base_label_dir, label_path)"
   ]
  },
  {
   "cell_type": "code",
   "execution_count": 97,
   "metadata": {},
   "outputs": [
    {
     "name": "stdout",
     "output_type": "stream",
     "text": [
      "video/66-20190720201028.mkv.csv\n",
      "['ohiwa']\n",
      "['ohiwa']\n",
      "['ohsu']\n",
      "['ogura']\n",
      "['ohsu']\n",
      "['ohsu']\n",
      "['ohsu']\n",
      "['ohsu']\n",
      "video/000-2019081412221.mkv.csv\n",
      "['ohiwa']\n",
      "['ohiwa']\n",
      "['teppei']\n",
      "['umeki']\n",
      "['keita']\n",
      "['umeki']\n",
      "[]\n",
      "['teppei']\n",
      "['ohiwa']\n",
      "[]\n",
      "['keita']\n",
      "['ohiwa']\n",
      "[]\n",
      "[]\n"
     ]
    }
   ],
   "source": [
    "base_info_dir = \"video\"\n",
    "\n",
    "combine_infoNlabel(base_info_dir, label_path)"
   ]
  },
  {
   "cell_type": "code",
   "execution_count": null,
   "metadata": {},
   "outputs": [],
   "source": []
  },
  {
   "cell_type": "code",
   "execution_count": 46,
   "metadata": {
    "scrolled": true
   },
   "outputs": [
    {
     "name": "stdout",
     "output_type": "stream",
     "text": [
      "['ohiwa']\n",
      "['ohiwa']\n",
      "['teppei']\n",
      "['umeki']\n",
      "['keita']\n",
      "['umeki']\n",
      "[]\n",
      "['teppei']\n",
      "['ohiwa']\n",
      "[]\n",
      "['keita']\n",
      "['ohiwa']\n",
      "[]\n",
      "[]\n"
     ]
    }
   ],
   "source": [
    "combine_label(base_csv_path, label_df)"
   ]
  },
  {
   "cell_type": "code",
   "execution_count": null,
   "metadata": {},
   "outputs": [],
   "source": []
  },
  {
   "cell_type": "code",
   "execution_count": null,
   "metadata": {},
   "outputs": [],
   "source": []
  }
 ],
 "metadata": {
  "kernelspec": {
   "display_name": "Python 3",
   "language": "python",
   "name": "python3"
  },
  "language_info": {
   "codemirror_mode": {
    "name": "ipython",
    "version": 3
   },
   "file_extension": ".py",
   "mimetype": "text/x-python",
   "name": "python",
   "nbconvert_exporter": "python",
   "pygments_lexer": "ipython3",
   "version": "3.6.8"
  }
 },
 "nbformat": 4,
 "nbformat_minor": 2
}
